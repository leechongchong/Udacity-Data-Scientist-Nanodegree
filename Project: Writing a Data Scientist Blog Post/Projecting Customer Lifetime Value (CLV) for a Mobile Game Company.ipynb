{
 "cells": [
  {
   "cell_type": "markdown",
   "id": "e3a67d23",
   "metadata": {},
   "source": [
    "## Import Libraries"
   ]
  },
  {
   "cell_type": "code",
   "execution_count": 1,
   "id": "49f40446",
   "metadata": {},
   "outputs": [
    {
     "name": "stdout",
     "output_type": "stream",
     "text": [
      "Requirement already satisfied: lifetimes in /Users/lichong/opt/anaconda3/lib/python3.9/site-packages (0.11.3)\n",
      "Requirement already satisfied: pandas>=0.24.0 in /Users/lichong/opt/anaconda3/lib/python3.9/site-packages (from lifetimes) (1.4.4)\n",
      "Requirement already satisfied: autograd>=1.2.0 in /Users/lichong/opt/anaconda3/lib/python3.9/site-packages (from lifetimes) (1.5)\n",
      "Requirement already satisfied: dill>=0.2.6 in /Users/lichong/opt/anaconda3/lib/python3.9/site-packages (from lifetimes) (0.3.4)\n",
      "Requirement already satisfied: numpy>=1.10.0 in /Users/lichong/opt/anaconda3/lib/python3.9/site-packages (from lifetimes) (1.21.5)\n",
      "Requirement already satisfied: scipy>=1.0.0 in /Users/lichong/opt/anaconda3/lib/python3.9/site-packages (from lifetimes) (1.9.1)\n",
      "Requirement already satisfied: future>=0.15.2 in /Users/lichong/opt/anaconda3/lib/python3.9/site-packages (from autograd>=1.2.0->lifetimes) (0.18.2)\n",
      "Requirement already satisfied: python-dateutil>=2.8.1 in /Users/lichong/opt/anaconda3/lib/python3.9/site-packages (from pandas>=0.24.0->lifetimes) (2.8.2)\n",
      "Requirement already satisfied: pytz>=2020.1 in /Users/lichong/opt/anaconda3/lib/python3.9/site-packages (from pandas>=0.24.0->lifetimes) (2022.1)\n",
      "Requirement already satisfied: six>=1.5 in /Users/lichong/opt/anaconda3/lib/python3.9/site-packages (from python-dateutil>=2.8.1->pandas>=0.24.0->lifetimes) (1.16.0)\n"
     ]
    }
   ],
   "source": [
    "import pandas as pd\n",
    "import numpy as np\n",
    "import matplotlib.pyplot as plt\n",
    "import seaborn as sns\n",
    "sns.set()\n",
    "\n",
    "!pip install lifetimes\n",
    "import lifetimes\n",
    "\n",
    "from sklearn.model_selection import train_test_split\n",
    "from sklearn.linear_model import LinearRegression\n",
    "from sklearn.metrics import r2_score, median_absolute_error"
   ]
  },
  {
   "cell_type": "markdown",
   "id": "eec822b6",
   "metadata": {},
   "source": [
    "## Load data"
   ]
  },
  {
   "cell_type": "code",
   "execution_count": 2,
   "id": "6e5e9dc8",
   "metadata": {},
   "outputs": [],
   "source": [
    "data_clv = pd.read_csv(\"MobileGame.csv\", encoding=\"unicode_escape\", parse_dates=['install_cohort'])"
   ]
  },
  {
   "cell_type": "markdown",
   "id": "f3d90496",
   "metadata": {},
   "source": [
    "## Explotary Data Analysis"
   ]
  },
  {
   "cell_type": "code",
   "execution_count": 3,
   "id": "c7a09c72",
   "metadata": {},
   "outputs": [
    {
     "data": {
      "text/html": [
       "<div>\n",
       "<style scoped>\n",
       "    .dataframe tbody tr th:only-of-type {\n",
       "        vertical-align: middle;\n",
       "    }\n",
       "\n",
       "    .dataframe tbody tr th {\n",
       "        vertical-align: top;\n",
       "    }\n",
       "\n",
       "    .dataframe thead th {\n",
       "        text-align: right;\n",
       "    }\n",
       "</style>\n",
       "<table border=\"1\" class=\"dataframe\">\n",
       "  <thead>\n",
       "    <tr style=\"text-align: right;\">\n",
       "      <th></th>\n",
       "      <th>install_cohort</th>\n",
       "      <th>days_since_install</th>\n",
       "      <th>revenue</th>\n",
       "      <th>total_installs</th>\n",
       "      <th>cum_rev</th>\n",
       "      <th>arpu</th>\n",
       "    </tr>\n",
       "  </thead>\n",
       "  <tbody>\n",
       "    <tr>\n",
       "      <th>0</th>\n",
       "      <td>2015-03-01</td>\n",
       "      <td>42</td>\n",
       "      <td>14468.137796</td>\n",
       "      <td>289</td>\n",
       "      <td>14468.137796</td>\n",
       "      <td>50.062761</td>\n",
       "    </tr>\n",
       "    <tr>\n",
       "      <th>1</th>\n",
       "      <td>2015-03-01</td>\n",
       "      <td>60</td>\n",
       "      <td>764.962165</td>\n",
       "      <td>289</td>\n",
       "      <td>15233.099961</td>\n",
       "      <td>52.709688</td>\n",
       "    </tr>\n",
       "    <tr>\n",
       "      <th>2</th>\n",
       "      <td>2015-03-01</td>\n",
       "      <td>68</td>\n",
       "      <td>34405.084055</td>\n",
       "      <td>289</td>\n",
       "      <td>49638.184016</td>\n",
       "      <td>171.758422</td>\n",
       "    </tr>\n",
       "    <tr>\n",
       "      <th>3</th>\n",
       "      <td>2015-03-01</td>\n",
       "      <td>69</td>\n",
       "      <td>17729.292290</td>\n",
       "      <td>289</td>\n",
       "      <td>67367.476306</td>\n",
       "      <td>233.105454</td>\n",
       "    </tr>\n",
       "    <tr>\n",
       "      <th>4</th>\n",
       "      <td>2015-03-01</td>\n",
       "      <td>76</td>\n",
       "      <td>33442.650453</td>\n",
       "      <td>289</td>\n",
       "      <td>100810.126759</td>\n",
       "      <td>348.823968</td>\n",
       "    </tr>\n",
       "  </tbody>\n",
       "</table>\n",
       "</div>"
      ],
      "text/plain": [
       "  install_cohort  days_since_install       revenue  total_installs  \\\n",
       "0     2015-03-01                  42  14468.137796             289   \n",
       "1     2015-03-01                  60    764.962165             289   \n",
       "2     2015-03-01                  68  34405.084055             289   \n",
       "3     2015-03-01                  69  17729.292290             289   \n",
       "4     2015-03-01                  76  33442.650453             289   \n",
       "\n",
       "         cum_rev        arpu  \n",
       "0   14468.137796   50.062761  \n",
       "1   15233.099961   52.709688  \n",
       "2   49638.184016  171.758422  \n",
       "3   67367.476306  233.105454  \n",
       "4  100810.126759  348.823968  "
      ]
     },
     "execution_count": 3,
     "metadata": {},
     "output_type": "execute_result"
    }
   ],
   "source": [
    "data_clv.head()"
   ]
  },
  {
   "cell_type": "code",
   "execution_count": 4,
   "id": "49f5e3f8",
   "metadata": {},
   "outputs": [
    {
     "data": {
      "text/html": [
       "<div>\n",
       "<style scoped>\n",
       "    .dataframe tbody tr th:only-of-type {\n",
       "        vertical-align: middle;\n",
       "    }\n",
       "\n",
       "    .dataframe tbody tr th {\n",
       "        vertical-align: top;\n",
       "    }\n",
       "\n",
       "    .dataframe thead th {\n",
       "        text-align: right;\n",
       "    }\n",
       "</style>\n",
       "<table border=\"1\" class=\"dataframe\">\n",
       "  <thead>\n",
       "    <tr style=\"text-align: right;\">\n",
       "      <th></th>\n",
       "      <th>days_since_install</th>\n",
       "      <th>revenue</th>\n",
       "      <th>total_installs</th>\n",
       "      <th>cum_rev</th>\n",
       "      <th>arpu</th>\n",
       "    </tr>\n",
       "  </thead>\n",
       "  <tbody>\n",
       "    <tr>\n",
       "      <th>count</th>\n",
       "      <td>67560.000000</td>\n",
       "      <td>6.756000e+04</td>\n",
       "      <td>6.756000e+04</td>\n",
       "      <td>6.756000e+04</td>\n",
       "      <td>67560.000000</td>\n",
       "    </tr>\n",
       "    <tr>\n",
       "      <th>mean</th>\n",
       "      <td>283.552043</td>\n",
       "      <td>1.528436e+05</td>\n",
       "      <td>1.053914e+06</td>\n",
       "      <td>6.821477e+07</td>\n",
       "      <td>67.556784</td>\n",
       "    </tr>\n",
       "    <tr>\n",
       "      <th>std</th>\n",
       "      <td>237.915083</td>\n",
       "      <td>2.045282e+05</td>\n",
       "      <td>6.084626e+05</td>\n",
       "      <td>4.342732e+07</td>\n",
       "      <td>37.354955</td>\n",
       "    </tr>\n",
       "    <tr>\n",
       "      <th>min</th>\n",
       "      <td>-792.000000</td>\n",
       "      <td>9.490132e+01</td>\n",
       "      <td>1.490000e+02</td>\n",
       "      <td>9.490132e+01</td>\n",
       "      <td>0.000035</td>\n",
       "    </tr>\n",
       "    <tr>\n",
       "      <th>25%</th>\n",
       "      <td>96.000000</td>\n",
       "      <td>3.543917e+04</td>\n",
       "      <td>7.918640e+05</td>\n",
       "      <td>4.037755e+07</td>\n",
       "      <td>44.370281</td>\n",
       "    </tr>\n",
       "    <tr>\n",
       "      <th>50%</th>\n",
       "      <td>250.000000</td>\n",
       "      <td>8.122211e+04</td>\n",
       "      <td>9.600220e+05</td>\n",
       "      <td>6.757673e+07</td>\n",
       "      <td>69.593133</td>\n",
       "    </tr>\n",
       "    <tr>\n",
       "      <th>75%</th>\n",
       "      <td>450.000000</td>\n",
       "      <td>1.815443e+05</td>\n",
       "      <td>1.094166e+06</td>\n",
       "      <td>9.227602e+07</td>\n",
       "      <td>89.670680</td>\n",
       "    </tr>\n",
       "    <tr>\n",
       "      <th>max</th>\n",
       "      <td>926.000000</td>\n",
       "      <td>4.261046e+06</td>\n",
       "      <td>5.439207e+06</td>\n",
       "      <td>2.790897e+08</td>\n",
       "      <td>596.550548</td>\n",
       "    </tr>\n",
       "  </tbody>\n",
       "</table>\n",
       "</div>"
      ],
      "text/plain": [
       "       days_since_install       revenue  total_installs       cum_rev  \\\n",
       "count        67560.000000  6.756000e+04    6.756000e+04  6.756000e+04   \n",
       "mean           283.552043  1.528436e+05    1.053914e+06  6.821477e+07   \n",
       "std            237.915083  2.045282e+05    6.084626e+05  4.342732e+07   \n",
       "min           -792.000000  9.490132e+01    1.490000e+02  9.490132e+01   \n",
       "25%             96.000000  3.543917e+04    7.918640e+05  4.037755e+07   \n",
       "50%            250.000000  8.122211e+04    9.600220e+05  6.757673e+07   \n",
       "75%            450.000000  1.815443e+05    1.094166e+06  9.227602e+07   \n",
       "max            926.000000  4.261046e+06    5.439207e+06  2.790897e+08   \n",
       "\n",
       "               arpu  \n",
       "count  67560.000000  \n",
       "mean      67.556784  \n",
       "std       37.354955  \n",
       "min        0.000035  \n",
       "25%       44.370281  \n",
       "50%       69.593133  \n",
       "75%       89.670680  \n",
       "max      596.550548  "
      ]
     },
     "execution_count": 4,
     "metadata": {},
     "output_type": "execute_result"
    }
   ],
   "source": [
    "# General Description\n",
    "data_clv.describe()"
   ]
  },
  {
   "cell_type": "code",
   "execution_count": 5,
   "id": "dabf2e63",
   "metadata": {},
   "outputs": [
    {
     "name": "stdout",
     "output_type": "stream",
     "text": [
      "There are only numeric and date variables in the dataset w/o categorical variables.\n",
      "It presents negative values in days_since_install columns, which doesn't make logical sense.\n"
     ]
    }
   ],
   "source": [
    "print(\"There are only numeric and date variables in the dataset w/o categorical variables.\")\n",
    "print(\"It presents negative values in days_since_install columns, which doesn't make logical sense.\")"
   ]
  },
  {
   "cell_type": "code",
   "execution_count": 6,
   "id": "d83f513f",
   "metadata": {},
   "outputs": [],
   "source": [
    "# Remove fallacious rows with negative values on days since install\n",
    "data_clv = data_clv[data_clv['days_since_install'] > 0]"
   ]
  },
  {
   "cell_type": "code",
   "execution_count": 7,
   "id": "ef9f6d39",
   "metadata": {},
   "outputs": [
    {
     "data": {
      "text/html": [
       "<div>\n",
       "<style scoped>\n",
       "    .dataframe tbody tr th:only-of-type {\n",
       "        vertical-align: middle;\n",
       "    }\n",
       "\n",
       "    .dataframe tbody tr th {\n",
       "        vertical-align: top;\n",
       "    }\n",
       "\n",
       "    .dataframe thead th {\n",
       "        text-align: right;\n",
       "    }\n",
       "</style>\n",
       "<table border=\"1\" class=\"dataframe\">\n",
       "  <thead>\n",
       "    <tr style=\"text-align: right;\">\n",
       "      <th></th>\n",
       "      <th>days_since_install</th>\n",
       "      <th>revenue</th>\n",
       "      <th>total_installs</th>\n",
       "      <th>cum_rev</th>\n",
       "      <th>arpu</th>\n",
       "    </tr>\n",
       "  </thead>\n",
       "  <tbody>\n",
       "    <tr>\n",
       "      <th>count</th>\n",
       "      <td>62911.000000</td>\n",
       "      <td>6.291100e+04</td>\n",
       "      <td>6.291100e+04</td>\n",
       "      <td>6.291100e+04</td>\n",
       "      <td>62911.000000</td>\n",
       "    </tr>\n",
       "    <tr>\n",
       "      <th>mean</th>\n",
       "      <td>311.500135</td>\n",
       "      <td>1.604166e+05</td>\n",
       "      <td>1.058900e+06</td>\n",
       "      <td>7.324072e+07</td>\n",
       "      <td>72.533024</td>\n",
       "    </tr>\n",
       "    <tr>\n",
       "      <th>std</th>\n",
       "      <td>219.907904</td>\n",
       "      <td>1.970891e+05</td>\n",
       "      <td>6.236243e+05</td>\n",
       "      <td>4.072094e+07</td>\n",
       "      <td>33.743548</td>\n",
       "    </tr>\n",
       "    <tr>\n",
       "      <th>min</th>\n",
       "      <td>1.000000</td>\n",
       "      <td>9.490132e+01</td>\n",
       "      <td>1.490000e+02</td>\n",
       "      <td>2.866212e+02</td>\n",
       "      <td>0.048981</td>\n",
       "    </tr>\n",
       "    <tr>\n",
       "      <th>25%</th>\n",
       "      <td>126.000000</td>\n",
       "      <td>4.321557e+04</td>\n",
       "      <td>7.968120e+05</td>\n",
       "      <td>4.790186e+07</td>\n",
       "      <td>50.573839</td>\n",
       "    </tr>\n",
       "    <tr>\n",
       "      <th>50%</th>\n",
       "      <td>274.000000</td>\n",
       "      <td>8.842503e+04</td>\n",
       "      <td>9.600220e+05</td>\n",
       "      <td>7.018618e+07</td>\n",
       "      <td>72.364605</td>\n",
       "    </tr>\n",
       "    <tr>\n",
       "      <th>75%</th>\n",
       "      <td>467.000000</td>\n",
       "      <td>1.928587e+05</td>\n",
       "      <td>1.127966e+06</td>\n",
       "      <td>9.415616e+07</td>\n",
       "      <td>91.363196</td>\n",
       "    </tr>\n",
       "    <tr>\n",
       "      <th>max</th>\n",
       "      <td>926.000000</td>\n",
       "      <td>3.475016e+06</td>\n",
       "      <td>5.439207e+06</td>\n",
       "      <td>2.790897e+08</td>\n",
       "      <td>596.550548</td>\n",
       "    </tr>\n",
       "  </tbody>\n",
       "</table>\n",
       "</div>"
      ],
      "text/plain": [
       "       days_since_install       revenue  total_installs       cum_rev  \\\n",
       "count        62911.000000  6.291100e+04    6.291100e+04  6.291100e+04   \n",
       "mean           311.500135  1.604166e+05    1.058900e+06  7.324072e+07   \n",
       "std            219.907904  1.970891e+05    6.236243e+05  4.072094e+07   \n",
       "min              1.000000  9.490132e+01    1.490000e+02  2.866212e+02   \n",
       "25%            126.000000  4.321557e+04    7.968120e+05  4.790186e+07   \n",
       "50%            274.000000  8.842503e+04    9.600220e+05  7.018618e+07   \n",
       "75%            467.000000  1.928587e+05    1.127966e+06  9.415616e+07   \n",
       "max            926.000000  3.475016e+06    5.439207e+06  2.790897e+08   \n",
       "\n",
       "               arpu  \n",
       "count  62911.000000  \n",
       "mean      72.533024  \n",
       "std       33.743548  \n",
       "min        0.048981  \n",
       "25%       50.573839  \n",
       "50%       72.364605  \n",
       "75%       91.363196  \n",
       "max      596.550548  "
      ]
     },
     "execution_count": 7,
     "metadata": {},
     "output_type": "execute_result"
    }
   ],
   "source": [
    "data_clv.describe()"
   ]
  },
  {
   "cell_type": "code",
   "execution_count": 8,
   "id": "3a957c8e",
   "metadata": {},
   "outputs": [
    {
     "data": {
      "text/html": [
       "<div>\n",
       "<style scoped>\n",
       "    .dataframe tbody tr th:only-of-type {\n",
       "        vertical-align: middle;\n",
       "    }\n",
       "\n",
       "    .dataframe tbody tr th {\n",
       "        vertical-align: top;\n",
       "    }\n",
       "\n",
       "    .dataframe thead th {\n",
       "        text-align: right;\n",
       "    }\n",
       "</style>\n",
       "<table border=\"1\" class=\"dataframe\">\n",
       "  <thead>\n",
       "    <tr style=\"text-align: right;\">\n",
       "      <th></th>\n",
       "      <th>Count</th>\n",
       "      <th>Percentage</th>\n",
       "    </tr>\n",
       "  </thead>\n",
       "  <tbody>\n",
       "    <tr>\n",
       "      <th>install_cohort</th>\n",
       "      <td>0</td>\n",
       "      <td>0.0</td>\n",
       "    </tr>\n",
       "    <tr>\n",
       "      <th>days_since_install</th>\n",
       "      <td>0</td>\n",
       "      <td>0.0</td>\n",
       "    </tr>\n",
       "    <tr>\n",
       "      <th>revenue</th>\n",
       "      <td>0</td>\n",
       "      <td>0.0</td>\n",
       "    </tr>\n",
       "    <tr>\n",
       "      <th>total_installs</th>\n",
       "      <td>0</td>\n",
       "      <td>0.0</td>\n",
       "    </tr>\n",
       "    <tr>\n",
       "      <th>cum_rev</th>\n",
       "      <td>0</td>\n",
       "      <td>0.0</td>\n",
       "    </tr>\n",
       "    <tr>\n",
       "      <th>arpu</th>\n",
       "      <td>0</td>\n",
       "      <td>0.0</td>\n",
       "    </tr>\n",
       "  </tbody>\n",
       "</table>\n",
       "</div>"
      ],
      "text/plain": [
       "                    Count  Percentage\n",
       "install_cohort          0         0.0\n",
       "days_since_install      0         0.0\n",
       "revenue                 0         0.0\n",
       "total_installs          0         0.0\n",
       "cum_rev                 0         0.0\n",
       "arpu                    0         0.0"
      ]
     },
     "execution_count": 8,
     "metadata": {},
     "output_type": "execute_result"
    }
   ],
   "source": [
    "# Check on Missing Values\n",
    "pd.DataFrame(zip(data_clv.isnull().sum(), data_clv.isnull().sum()/len(data_clv)), columns=['Count', 'Percentage'], index=data_clv.columns)"
   ]
  },
  {
   "cell_type": "code",
   "execution_count": 9,
   "id": "d3a80eb3",
   "metadata": {},
   "outputs": [
    {
     "name": "stdout",
     "output_type": "stream",
     "text": [
      "Good news: There are no missing values in the data set!\n"
     ]
    }
   ],
   "source": [
    "print(\"Good news: There are no missing values in the data set!\")"
   ]
  },
  {
   "cell_type": "code",
   "execution_count": 10,
   "id": "8e5f268a",
   "metadata": {},
   "outputs": [
    {
     "name": "stdout",
     "output_type": "stream",
     "text": [
      "The Time range of Install Cohort are: 2015-03-01 to 2017-10-15\n"
     ]
    }
   ],
   "source": [
    "# Check on time range of install cohort date\n",
    "maxdate = data_clv['install_cohort'].dt.date.max()\n",
    "mindate = data_clv['install_cohort'].dt.date.min()\n",
    "print(f\"The Time range of Install Cohort are: {mindate} to {maxdate}\")"
   ]
  },
  {
   "cell_type": "code",
   "execution_count": 11,
   "id": "84913790",
   "metadata": {},
   "outputs": [
    {
     "data": {
      "text/html": [
       "<div>\n",
       "<style scoped>\n",
       "    .dataframe tbody tr th:only-of-type {\n",
       "        vertical-align: middle;\n",
       "    }\n",
       "\n",
       "    .dataframe tbody tr th {\n",
       "        vertical-align: top;\n",
       "    }\n",
       "\n",
       "    .dataframe thead th {\n",
       "        text-align: right;\n",
       "    }\n",
       "</style>\n",
       "<table border=\"1\" class=\"dataframe\">\n",
       "  <thead>\n",
       "    <tr style=\"text-align: right;\">\n",
       "      <th></th>\n",
       "      <th>days_since_install</th>\n",
       "    </tr>\n",
       "    <tr>\n",
       "      <th>install_cohort</th>\n",
       "      <th></th>\n",
       "    </tr>\n",
       "  </thead>\n",
       "  <tbody>\n",
       "    <tr>\n",
       "      <th>2015-03-01</th>\n",
       "      <td>910</td>\n",
       "    </tr>\n",
       "    <tr>\n",
       "      <th>2015-03-08</th>\n",
       "      <td>678</td>\n",
       "    </tr>\n",
       "    <tr>\n",
       "      <th>2015-03-15</th>\n",
       "      <td>505</td>\n",
       "    </tr>\n",
       "    <tr>\n",
       "      <th>2015-03-22</th>\n",
       "      <td>445</td>\n",
       "    </tr>\n",
       "    <tr>\n",
       "      <th>2015-03-29</th>\n",
       "      <td>921</td>\n",
       "    </tr>\n",
       "    <tr>\n",
       "      <th>...</th>\n",
       "      <td>...</td>\n",
       "    </tr>\n",
       "    <tr>\n",
       "      <th>2017-09-17</th>\n",
       "      <td>35</td>\n",
       "    </tr>\n",
       "    <tr>\n",
       "      <th>2017-09-24</th>\n",
       "      <td>28</td>\n",
       "    </tr>\n",
       "    <tr>\n",
       "      <th>2017-10-01</th>\n",
       "      <td>21</td>\n",
       "    </tr>\n",
       "    <tr>\n",
       "      <th>2017-10-08</th>\n",
       "      <td>14</td>\n",
       "    </tr>\n",
       "    <tr>\n",
       "      <th>2017-10-15</th>\n",
       "      <td>7</td>\n",
       "    </tr>\n",
       "  </tbody>\n",
       "</table>\n",
       "<p>138 rows × 1 columns</p>\n",
       "</div>"
      ],
      "text/plain": [
       "                days_since_install\n",
       "install_cohort                    \n",
       "2015-03-01                     910\n",
       "2015-03-08                     678\n",
       "2015-03-15                     505\n",
       "2015-03-22                     445\n",
       "2015-03-29                     921\n",
       "...                            ...\n",
       "2017-09-17                      35\n",
       "2017-09-24                      28\n",
       "2017-10-01                      21\n",
       "2017-10-08                      14\n",
       "2017-10-15                       7\n",
       "\n",
       "[138 rows x 1 columns]"
      ]
     },
     "execution_count": 11,
     "metadata": {},
     "output_type": "execute_result"
    }
   ],
   "source": [
    "# Check on the the largest 'days since install' by install cohort\n",
    "customer = data_clv.groupby('install_cohort').agg({'days_since_install': lambda x: max(x)})\n",
    "customer"
   ]
  },
  {
   "cell_type": "markdown",
   "id": "51a8eb81",
   "metadata": {},
   "source": [
    "### Business Question One: Which cohort has the highest total_installs, arpu and cumulative revenue? "
   ]
  },
  {
   "cell_type": "code",
   "execution_count": 12,
   "id": "5cc0778c",
   "metadata": {},
   "outputs": [
    {
     "data": {
      "text/html": [
       "<div>\n",
       "<style scoped>\n",
       "    .dataframe tbody tr th:only-of-type {\n",
       "        vertical-align: middle;\n",
       "    }\n",
       "\n",
       "    .dataframe tbody tr th {\n",
       "        vertical-align: top;\n",
       "    }\n",
       "\n",
       "    .dataframe thead th {\n",
       "        text-align: right;\n",
       "    }\n",
       "</style>\n",
       "<table border=\"1\" class=\"dataframe\">\n",
       "  <thead>\n",
       "    <tr style=\"text-align: right;\">\n",
       "      <th></th>\n",
       "      <th>install_cohort</th>\n",
       "      <th>days_since_install</th>\n",
       "      <th>revenue</th>\n",
       "      <th>total_installs</th>\n",
       "      <th>cum_rev</th>\n",
       "      <th>arpu</th>\n",
       "    </tr>\n",
       "  </thead>\n",
       "  <tbody>\n",
       "    <tr>\n",
       "      <th>0</th>\n",
       "      <td>2015-03-01</td>\n",
       "      <td>910</td>\n",
       "      <td>18589.155777</td>\n",
       "      <td>289</td>\n",
       "      <td>1.724031e+05</td>\n",
       "      <td>596.550548</td>\n",
       "    </tr>\n",
       "    <tr>\n",
       "      <th>1</th>\n",
       "      <td>2015-03-08</td>\n",
       "      <td>678</td>\n",
       "      <td>9679.934769</td>\n",
       "      <td>149</td>\n",
       "      <td>4.810730e+04</td>\n",
       "      <td>322.867793</td>\n",
       "    </tr>\n",
       "    <tr>\n",
       "      <th>2</th>\n",
       "      <td>2015-03-15</td>\n",
       "      <td>505</td>\n",
       "      <td>4792.037424</td>\n",
       "      <td>635</td>\n",
       "      <td>3.419448e+05</td>\n",
       "      <td>538.495745</td>\n",
       "    </tr>\n",
       "    <tr>\n",
       "      <th>3</th>\n",
       "      <td>2015-03-22</td>\n",
       "      <td>445</td>\n",
       "      <td>478.341003</td>\n",
       "      <td>5989</td>\n",
       "      <td>3.256745e+04</td>\n",
       "      <td>5.437878</td>\n",
       "    </tr>\n",
       "    <tr>\n",
       "      <th>4</th>\n",
       "      <td>2015-03-29</td>\n",
       "      <td>921</td>\n",
       "      <td>1916.239810</td>\n",
       "      <td>19512</td>\n",
       "      <td>2.953151e+06</td>\n",
       "      <td>151.350493</td>\n",
       "    </tr>\n",
       "    <tr>\n",
       "      <th>...</th>\n",
       "      <td>...</td>\n",
       "      <td>...</td>\n",
       "      <td>...</td>\n",
       "      <td>...</td>\n",
       "      <td>...</td>\n",
       "      <td>...</td>\n",
       "    </tr>\n",
       "    <tr>\n",
       "      <th>133</th>\n",
       "      <td>2017-09-17</td>\n",
       "      <td>35</td>\n",
       "      <td>48560.718510</td>\n",
       "      <td>736576</td>\n",
       "      <td>1.755889e+07</td>\n",
       "      <td>23.838537</td>\n",
       "    </tr>\n",
       "    <tr>\n",
       "      <th>134</th>\n",
       "      <td>2017-09-24</td>\n",
       "      <td>28</td>\n",
       "      <td>46340.602752</td>\n",
       "      <td>653379</td>\n",
       "      <td>1.221610e+07</td>\n",
       "      <td>18.696811</td>\n",
       "    </tr>\n",
       "    <tr>\n",
       "      <th>135</th>\n",
       "      <td>2017-10-01</td>\n",
       "      <td>21</td>\n",
       "      <td>58807.185408</td>\n",
       "      <td>576633</td>\n",
       "      <td>9.558089e+06</td>\n",
       "      <td>16.575689</td>\n",
       "    </tr>\n",
       "    <tr>\n",
       "      <th>136</th>\n",
       "      <td>2017-10-08</td>\n",
       "      <td>14</td>\n",
       "      <td>75283.588538</td>\n",
       "      <td>541017</td>\n",
       "      <td>7.840038e+06</td>\n",
       "      <td>14.491297</td>\n",
       "    </tr>\n",
       "    <tr>\n",
       "      <th>137</th>\n",
       "      <td>2017-10-15</td>\n",
       "      <td>7</td>\n",
       "      <td>64618.213787</td>\n",
       "      <td>537777</td>\n",
       "      <td>3.703471e+06</td>\n",
       "      <td>6.886630</td>\n",
       "    </tr>\n",
       "  </tbody>\n",
       "</table>\n",
       "<p>138 rows × 6 columns</p>\n",
       "</div>"
      ],
      "text/plain": [
       "    install_cohort  days_since_install       revenue  total_installs  \\\n",
       "0       2015-03-01                 910  18589.155777             289   \n",
       "1       2015-03-08                 678   9679.934769             149   \n",
       "2       2015-03-15                 505   4792.037424             635   \n",
       "3       2015-03-22                 445    478.341003            5989   \n",
       "4       2015-03-29                 921   1916.239810           19512   \n",
       "..             ...                 ...           ...             ...   \n",
       "133     2017-09-17                  35  48560.718510          736576   \n",
       "134     2017-09-24                  28  46340.602752          653379   \n",
       "135     2017-10-01                  21  58807.185408          576633   \n",
       "136     2017-10-08                  14  75283.588538          541017   \n",
       "137     2017-10-15                   7  64618.213787          537777   \n",
       "\n",
       "          cum_rev        arpu  \n",
       "0    1.724031e+05  596.550548  \n",
       "1    4.810730e+04  322.867793  \n",
       "2    3.419448e+05  538.495745  \n",
       "3    3.256745e+04    5.437878  \n",
       "4    2.953151e+06  151.350493  \n",
       "..            ...         ...  \n",
       "133  1.755889e+07   23.838537  \n",
       "134  1.221610e+07   18.696811  \n",
       "135  9.558089e+06   16.575689  \n",
       "136  7.840038e+06   14.491297  \n",
       "137  3.703471e+06    6.886630  \n",
       "\n",
       "[138 rows x 6 columns]"
      ]
     },
     "execution_count": 12,
     "metadata": {},
     "output_type": "execute_result"
    }
   ],
   "source": [
    "# Merge data to only keep rows with the cumulative information of each cohort\n",
    "data_update = pd.merge(data_clv, customer, on=['install_cohort', 'days_since_install'])\n",
    "data_update"
   ]
  },
  {
   "cell_type": "code",
   "execution_count": 13,
   "id": "41ba1fad",
   "metadata": {},
   "outputs": [],
   "source": [
    "# Top 10 total installs, ARPU and cumulative revenue are ranked in descending order by install cohorts\n",
    "top_installs = data_update.sort_values(by=['total_installs'], ascending=False).head(10)\n",
    "top_cumrev = data_update.sort_values(by=['cum_rev'], ascending=False).head(10)\n",
    "top_arpu = data_update.sort_values(by=['arpu'], ascending=False).head(10)"
   ]
  },
  {
   "cell_type": "markdown",
   "id": "277ad386",
   "metadata": {},
   "source": [
    "### Install Cohort 2015–04–12 has the most total installs, with more than 5MM in 7 days. The total installs are more than two times of the rest of install cohorts."
   ]
  },
  {
   "cell_type": "code",
   "execution_count": 14,
   "id": "7eb16289",
   "metadata": {
    "scrolled": true
   },
   "outputs": [
    {
     "data": {
      "image/png": "[encoded data removed]",
      "text/plain": [
       "<Figure size 800x600 with 1 Axes>"
      ]
     },
     "metadata": {},
     "output_type": "display_data"
    }
   ],
   "source": [
    "top_installs.plot(x=\"install_cohort\", y=\"total_installs\", kind=\"bar\",figsize=(8,6), color = 'green')\n",
    "plt.show()"
   ]
  },
  {
   "cell_type": "markdown",
   "id": "0d4314ee",
   "metadata": {},
   "source": [
    "### Install Cohort 2015–03–01 has the highest ARPU, at about 600. The 2015–03–15 cohort's ARPU is less than 100 lower than 03–01 one."
   ]
  },
  {
   "cell_type": "code",
   "execution_count": 15,
   "id": "13c136ea",
   "metadata": {},
   "outputs": [
    {
     "data": {
      "image/png": "[encoded data removed]",
      "text/plain": [
       "<Figure size 800x600 with 1 Axes>"
      ]
     },
     "metadata": {},
     "output_type": "display_data"
    }
   ],
   "source": [
    "top_arpu.plot(x=\"install_cohort\", y=\"arpu\", kind=\"bar\",figsize=(8,6), color = 'green')\n",
    "plt.show()"
   ]
  },
  {
   "cell_type": "markdown",
   "id": "9d11a520",
   "metadata": {},
   "source": [
    "### Install Cohort 2015–07–26 has the highest cumulative revenue, followed by 2015–04–12 and 2015–08–09 cohorts."
   ]
  },
  {
   "cell_type": "code",
   "execution_count": 16,
   "id": "68f2c742",
   "metadata": {},
   "outputs": [
    {
     "data": {
      "image/png": "[encoded data removed]",
      "text/plain": [
       "<Figure size 800x600 with 1 Axes>"
      ]
     },
     "metadata": {},
     "output_type": "display_data"
    }
   ],
   "source": [
    "top_cumrev.plot(x=\"install_cohort\", y=\"cum_rev\", kind=\"bar\",figsize=(8,6), color = 'green')\n",
    "plt.show()"
   ]
  },
  {
   "cell_type": "markdown",
   "id": "868e401b",
   "metadata": {},
   "source": [
    "### In general, 2015 install cohorts have the highest amount of installs, ARPU and cumulative revenue among all years (2015, 16 & 17), which might be a result of novelty effect when the mobile game just launched into the market."
   ]
  },
  {
   "cell_type": "code",
   "execution_count": null,
   "id": "aaeaf113",
   "metadata": {},
   "outputs": [],
   "source": []
  },
  {
   "cell_type": "markdown",
   "id": "20317e85",
   "metadata": {},
   "source": [
    "## CLV Analysis"
   ]
  },
  {
   "cell_type": "markdown",
   "id": "690da03f",
   "metadata": {},
   "source": [
    "#### The General Formula for calculating CLV is:\n",
    "#### CLV = ((Average Revenue X Transaction Frequency) / Churn) X Profit Margin\n",
    "#### Where,\n",
    "#### Average Revenue = Average revenue of transactions per install cohort\n",
    "#### Transaction Frequency = Average no. of transactions per install cohort\n",
    "#### Retention rate = Based on business context / Total unique install cohorts\n",
    "#### Churn = 1 - Retention rate\n",
    "#### Profit Margin = Based on business context\n",
    "#### In this case, I am assuming the an install cohort will retain only when ARPU is larger \n",
    "#### than 100; profit margin for each transaction to be roughly 5%"
   ]
  },
  {
   "cell_type": "markdown",
   "id": "4119d8fa",
   "metadata": {},
   "source": [
    "### Business Question Two: What's the average CLV of all the install cohorts? "
   ]
  },
  {
   "cell_type": "code",
   "execution_count": 17,
   "id": "22dca418",
   "metadata": {},
   "outputs": [],
   "source": [
    "# Aggregate Model\n",
    "# calculating the CLV by using the average revenue per cohort.\n",
    "# This method gives us a single value for the CLV of all cohorts\n",
    "# This assumes a constant average spend and churn rate for all cohorts."
   ]
  },
  {
   "cell_type": "code",
   "execution_count": 18,
   "id": "a377e91a",
   "metadata": {},
   "outputs": [
    {
     "data": {
      "text/html": [
       "<div>\n",
       "<style scoped>\n",
       "    .dataframe tbody tr th:only-of-type {\n",
       "        vertical-align: middle;\n",
       "    }\n",
       "\n",
       "    .dataframe tbody tr th {\n",
       "        vertical-align: top;\n",
       "    }\n",
       "\n",
       "    .dataframe thead th {\n",
       "        text-align: right;\n",
       "    }\n",
       "</style>\n",
       "<table border=\"1\" class=\"dataframe\">\n",
       "  <thead>\n",
       "    <tr style=\"text-align: right;\">\n",
       "      <th></th>\n",
       "      <th>Frequency</th>\n",
       "      <th>AverageRevenue</th>\n",
       "    </tr>\n",
       "    <tr>\n",
       "      <th>install_cohort</th>\n",
       "      <th></th>\n",
       "      <th></th>\n",
       "    </tr>\n",
       "  </thead>\n",
       "  <tbody>\n",
       "    <tr>\n",
       "      <th>2015-03-01</th>\n",
       "      <td>10</td>\n",
       "      <td>17240.310836</td>\n",
       "    </tr>\n",
       "    <tr>\n",
       "      <th>2015-03-08</th>\n",
       "      <td>4</td>\n",
       "      <td>12026.825272</td>\n",
       "    </tr>\n",
       "    <tr>\n",
       "      <th>2015-03-15</th>\n",
       "      <td>33</td>\n",
       "      <td>10361.963579</td>\n",
       "    </tr>\n",
       "    <tr>\n",
       "      <th>2015-03-22</th>\n",
       "      <td>24</td>\n",
       "      <td>1356.977057</td>\n",
       "    </tr>\n",
       "    <tr>\n",
       "      <th>2015-03-29</th>\n",
       "      <td>508</td>\n",
       "      <td>5813.289012</td>\n",
       "    </tr>\n",
       "    <tr>\n",
       "      <th>...</th>\n",
       "      <td>...</td>\n",
       "      <td>...</td>\n",
       "    </tr>\n",
       "    <tr>\n",
       "      <th>2017-09-17</th>\n",
       "      <td>35</td>\n",
       "      <td>451185.667914</td>\n",
       "    </tr>\n",
       "    <tr>\n",
       "      <th>2017-09-24</th>\n",
       "      <td>28</td>\n",
       "      <td>381462.091706</td>\n",
       "    </tr>\n",
       "    <tr>\n",
       "      <th>2017-10-01</th>\n",
       "      <td>21</td>\n",
       "      <td>391853.900503</td>\n",
       "    </tr>\n",
       "    <tr>\n",
       "      <th>2017-10-08</th>\n",
       "      <td>14</td>\n",
       "      <td>470045.354081</td>\n",
       "    </tr>\n",
       "    <tr>\n",
       "      <th>2017-10-15</th>\n",
       "      <td>7</td>\n",
       "      <td>349073.078722</td>\n",
       "    </tr>\n",
       "  </tbody>\n",
       "</table>\n",
       "<p>138 rows × 2 columns</p>\n",
       "</div>"
      ],
      "text/plain": [
       "                Frequency  AverageRevenue\n",
       "install_cohort                           \n",
       "2015-03-01             10    17240.310836\n",
       "2015-03-08              4    12026.825272\n",
       "2015-03-15             33    10361.963579\n",
       "2015-03-22             24     1356.977057\n",
       "2015-03-29            508     5813.289012\n",
       "...                   ...             ...\n",
       "2017-09-17             35   451185.667914\n",
       "2017-09-24             28   381462.091706\n",
       "2017-10-01             21   391853.900503\n",
       "2017-10-08             14   470045.354081\n",
       "2017-10-15              7   349073.078722\n",
       "\n",
       "[138 rows x 2 columns]"
      ]
     },
     "execution_count": 18,
     "metadata": {},
     "output_type": "execute_result"
    }
   ],
   "source": [
    "# Transforming the data to cohort level for the analysis\n",
    "cohort = data_clv.groupby('install_cohort').agg({ 'install_cohort': lambda x: len(x),\n",
    "                                                  'revenue': lambda x: sum(x)/len(x)})\n",
    "\n",
    "cohort.columns = ['Frequency', 'AverageRevenue']\n",
    "cohort"
   ]
  },
  {
   "cell_type": "code",
   "execution_count": 19,
   "id": "e8be3431",
   "metadata": {},
   "outputs": [
    {
     "name": "stdout",
     "output_type": "stream",
     "text": [
      "Average revenue: $187740.91\n",
      "Revenue Frequency: 455.88\n",
      "Churn: 1.0%\n"
     ]
    }
   ],
   "source": [
    "# Calculating the necessary variables for CLV calculation\n",
    "Average_revenue = round(np.mean(cohort['AverageRevenue']),2)\n",
    "print(f\"Average revenue: ${Average_revenue}\")\n",
    "\n",
    "Revenue_freq = round(np.mean(cohort['Frequency']), 2)\n",
    "print(f\"Revenue Frequency: {Revenue_freq}\")\n",
    "\n",
    "retention_rate = data_update[data_update['arpu']>100].shape[0]/data_clv.shape[0]\n",
    "churn = round(1 - retention_rate, 2)\n",
    "print(f\"Churn: {churn}%\")"
   ]
  },
  {
   "cell_type": "code",
   "execution_count": 20,
   "id": "f54542bf",
   "metadata": {},
   "outputs": [
    {
     "data": {
      "text/plain": [
       "4279366.3"
      ]
     },
     "execution_count": 20,
     "metadata": {},
     "output_type": "execute_result"
    }
   ],
   "source": [
    "# Assume 5% of the total revenue \n",
    "Profit_margin = 0.05 \n",
    "\n",
    "CLV = round(((Average_revenue * Revenue_freq/churn)) * Profit_margin, 2)\n",
    "CLV"
   ]
  },
  {
   "cell_type": "markdown",
   "id": "f1d64068",
   "metadata": {},
   "source": [
    "### From our basic formula above, the average CLV for each cohort is: $4.28MM "
   ]
  },
  {
   "cell_type": "code",
   "execution_count": null,
   "id": "ec5bb665",
   "metadata": {},
   "outputs": [],
   "source": []
  },
  {
   "cell_type": "markdown",
   "id": "1aeeeaf9",
   "metadata": {},
   "source": [
    "### Business Question Three: Install cohorts of which month has the highest average CLV?"
   ]
  },
  {
   "cell_type": "code",
   "execution_count": 21,
   "id": "dc2cc5d6",
   "metadata": {},
   "outputs": [],
   "source": [
    "# Cohort Model\n",
    "# The main assumption of this model is that, install cohorts in the same months have similar churn rates"
   ]
  },
  {
   "cell_type": "code",
   "execution_count": 22,
   "id": "5f5bfdbc",
   "metadata": {},
   "outputs": [
    {
     "data": {
      "text/html": [
       "<div>\n",
       "<style scoped>\n",
       "    .dataframe tbody tr th:only-of-type {\n",
       "        vertical-align: middle;\n",
       "    }\n",
       "\n",
       "    .dataframe tbody tr th {\n",
       "        vertical-align: top;\n",
       "    }\n",
       "\n",
       "    .dataframe thead th {\n",
       "        text-align: right;\n",
       "    }\n",
       "</style>\n",
       "<table border=\"1\" class=\"dataframe\">\n",
       "  <thead>\n",
       "    <tr style=\"text-align: right;\">\n",
       "      <th></th>\n",
       "      <th>Install_Month</th>\n",
       "      <th>Frequency</th>\n",
       "      <th>AverageRevenue</th>\n",
       "      <th>ARPU</th>\n",
       "    </tr>\n",
       "    <tr>\n",
       "      <th>install_cohort</th>\n",
       "      <th></th>\n",
       "      <th></th>\n",
       "      <th></th>\n",
       "      <th></th>\n",
       "    </tr>\n",
       "  </thead>\n",
       "  <tbody>\n",
       "    <tr>\n",
       "      <th>2015-03-01</th>\n",
       "      <td>3</td>\n",
       "      <td>10</td>\n",
       "      <td>17240.310836</td>\n",
       "      <td>596.550548</td>\n",
       "    </tr>\n",
       "    <tr>\n",
       "      <th>2015-03-08</th>\n",
       "      <td>3</td>\n",
       "      <td>4</td>\n",
       "      <td>12026.825272</td>\n",
       "      <td>322.867793</td>\n",
       "    </tr>\n",
       "    <tr>\n",
       "      <th>2015-03-15</th>\n",
       "      <td>3</td>\n",
       "      <td>33</td>\n",
       "      <td>10361.963579</td>\n",
       "      <td>538.495745</td>\n",
       "    </tr>\n",
       "    <tr>\n",
       "      <th>2015-03-22</th>\n",
       "      <td>3</td>\n",
       "      <td>24</td>\n",
       "      <td>1356.977057</td>\n",
       "      <td>5.437878</td>\n",
       "    </tr>\n",
       "    <tr>\n",
       "      <th>2015-03-29</th>\n",
       "      <td>3</td>\n",
       "      <td>508</td>\n",
       "      <td>5813.289012</td>\n",
       "      <td>151.350493</td>\n",
       "    </tr>\n",
       "  </tbody>\n",
       "</table>\n",
       "</div>"
      ],
      "text/plain": [
       "                Install_Month  Frequency  AverageRevenue        ARPU\n",
       "install_cohort                                                      \n",
       "2015-03-01                  3         10    17240.310836  596.550548\n",
       "2015-03-08                  3          4    12026.825272  322.867793\n",
       "2015-03-15                  3         33    10361.963579  538.495745\n",
       "2015-03-22                  3         24     1356.977057    5.437878\n",
       "2015-03-29                  3        508     5813.289012  151.350493"
      ]
     },
     "execution_count": 22,
     "metadata": {},
     "output_type": "execute_result"
    }
   ],
   "source": [
    "# Transforming the data to customer level for the analysis\n",
    "cohort = data_clv.groupby('install_cohort').agg({'install_cohort':lambda x: x.min().month, \n",
    "                                                 'days_since_install': lambda x: len(x),\n",
    "                                                 'revenue': lambda x: sum(x)/len(x),\n",
    "                                                 'arpu': lambda x: max(x)})\n",
    "\n",
    "cohort.columns = ['Install_Month', 'Frequency', 'AverageRevenue','ARPU']\n",
    "cohort.head()"
   ]
  },
  {
   "cell_type": "code",
   "execution_count": 23,
   "id": "031fc6e9",
   "metadata": {},
   "outputs": [
    {
     "data": {
      "text/plain": [
       "[6584838.81,\n",
       " 6063912.27,\n",
       " 2192341.23,\n",
       " 4904186.82,\n",
       " 4440114.21,\n",
       " 5200707.51,\n",
       " 4733173.92,\n",
       " 9536450.8,\n",
       " 10593941.6,\n",
       " 14792769.73,\n",
       " 7317636.15,\n",
       " 4674378.46]"
      ]
     },
     "execution_count": 23,
     "metadata": {},
     "output_type": "execute_result"
    }
   ],
   "source": [
    "# Calculating CLV for each month\n",
    "months = ['Jan', 'Feb', 'March', 'Apr', 'May', 'Jun', 'Jul', 'Aug', 'Sep', 'Oct', 'Nov', 'Dec']\n",
    "Monthly_CLV = []\n",
    "\n",
    "for i in range(1, 13):\n",
    "    cohort_m = cohort[cohort['Install_Month']==i]\n",
    "    \n",
    "    Average_revenue = round(np.mean(cohort_m['AverageRevenue']),2)\n",
    "    \n",
    "    Frequency = round(np.mean(cohort_m['Frequency']), 2)\n",
    "    \n",
    "    Retention_rate = cohort_m[cohort_m['ARPU']>100].shape[0]/cohort_m.shape[0]\n",
    "    \n",
    "    churn = round(1 - Retention_rate, 2)\n",
    "        \n",
    "    CLV = round(((Average_revenue * Frequency/churn)) * Profit_margin, 2)\n",
    "    Monthly_CLV.append(CLV)\n",
    "Monthly_CLV"
   ]
  },
  {
   "cell_type": "code",
   "execution_count": 24,
   "id": "e47112db",
   "metadata": {},
   "outputs": [
    {
     "data": {
      "image/png": "[encoded data removed]",
      "text/plain": [
       "<Figure size 900x800 with 1 Axes>"
      ]
     },
     "metadata": {},
     "output_type": "display_data"
    }
   ],
   "source": [
    "# Plot the average CLV for each month\n",
    "monthly_clv = pd.DataFrame(zip(months, Monthly_CLV), columns=['Months', 'CLV'])\n",
    "monthly_clv.plot(x=\"Months\", y=\"CLV\", kind=\"bar\",figsize=(9,8))\n",
    "plt.show()"
   ]
  },
  {
   "cell_type": "markdown",
   "id": "e569a329",
   "metadata": {},
   "source": [
    "### The results indicate that install cohorts who are in different months have different CLV values attached to them. The latter half of the year has higher CLV than the first half. Among all months, CLV of Oct install cohort is the highest at about 15MM whereas March cohort has the lowest CLV at merely 2MM. This is probably because they could be acquired using different campaigns, etc., so their behavior might be different from others."
   ]
  },
  {
   "cell_type": "code",
   "execution_count": null,
   "id": "9f8c0b1d",
   "metadata": {},
   "outputs": [],
   "source": []
  },
  {
   "cell_type": "markdown",
   "id": "c4bd2aba",
   "metadata": {},
   "source": [
    "### Business Question Four: What is the total estmiated CLV for the next one year of all install cohorts? "
   ]
  },
  {
   "cell_type": "code",
   "execution_count": 25,
   "id": "82262643",
   "metadata": {},
   "outputs": [],
   "source": [
    "# Probability Model \n",
    "# BG/NBD stands for Beta Geometric/Negative Binomial Distribution.\n",
    "# This is one of the most commonly used probabilistic model for predicting the CLV.\n",
    "# To be precise, BG/NBD model actually tries to predict the future transactions  of each customer (install cohort). \n",
    "# It is then combined with Gamma-Gamma model, which then adds the monetary aspect of the customer transaction (revenue) \n",
    "# and we finally get the total customer lifetime value (CLV).\n"
   ]
  },
  {
   "cell_type": "code",
   "execution_count": 26,
   "id": "6b303161",
   "metadata": {},
   "outputs": [],
   "source": [
    "# create a new column 'install_month'\n",
    "data_clv['install_month'] = data_clv['install_cohort'].dt.month"
   ]
  },
  {
   "cell_type": "code",
   "execution_count": 27,
   "id": "ee94ce15",
   "metadata": {},
   "outputs": [],
   "source": [
    "# create a new column 'billing_date' = install_cohort + days_since_install\n",
    "data_clv['billing_date'] = pd.to_datetime(data_clv['install_cohort'])+pd.to_timedelta(data_clv['days_since_install'],unit = 'd')"
   ]
  },
  {
   "cell_type": "code",
   "execution_count": 28,
   "id": "3f11fea9",
   "metadata": {},
   "outputs": [
    {
     "data": {
      "text/html": [
       "<div>\n",
       "<style scoped>\n",
       "    .dataframe tbody tr th:only-of-type {\n",
       "        vertical-align: middle;\n",
       "    }\n",
       "\n",
       "    .dataframe tbody tr th {\n",
       "        vertical-align: top;\n",
       "    }\n",
       "\n",
       "    .dataframe thead th {\n",
       "        text-align: right;\n",
       "    }\n",
       "</style>\n",
       "<table border=\"1\" class=\"dataframe\">\n",
       "  <thead>\n",
       "    <tr style=\"text-align: right;\">\n",
       "      <th></th>\n",
       "      <th>install_cohort</th>\n",
       "      <th>days_since_install</th>\n",
       "      <th>revenue</th>\n",
       "      <th>total_installs</th>\n",
       "      <th>cum_rev</th>\n",
       "      <th>arpu</th>\n",
       "      <th>install_month</th>\n",
       "      <th>billing_date</th>\n",
       "    </tr>\n",
       "  </thead>\n",
       "  <tbody>\n",
       "    <tr>\n",
       "      <th>0</th>\n",
       "      <td>2015-03-01</td>\n",
       "      <td>42</td>\n",
       "      <td>14468.137796</td>\n",
       "      <td>289</td>\n",
       "      <td>14468.137796</td>\n",
       "      <td>50.062761</td>\n",
       "      <td>3</td>\n",
       "      <td>2015-04-12</td>\n",
       "    </tr>\n",
       "    <tr>\n",
       "      <th>1</th>\n",
       "      <td>2015-03-01</td>\n",
       "      <td>60</td>\n",
       "      <td>764.962165</td>\n",
       "      <td>289</td>\n",
       "      <td>15233.099961</td>\n",
       "      <td>52.709688</td>\n",
       "      <td>3</td>\n",
       "      <td>2015-04-30</td>\n",
       "    </tr>\n",
       "    <tr>\n",
       "      <th>2</th>\n",
       "      <td>2015-03-01</td>\n",
       "      <td>68</td>\n",
       "      <td>34405.084055</td>\n",
       "      <td>289</td>\n",
       "      <td>49638.184016</td>\n",
       "      <td>171.758422</td>\n",
       "      <td>3</td>\n",
       "      <td>2015-05-08</td>\n",
       "    </tr>\n",
       "    <tr>\n",
       "      <th>3</th>\n",
       "      <td>2015-03-01</td>\n",
       "      <td>69</td>\n",
       "      <td>17729.292290</td>\n",
       "      <td>289</td>\n",
       "      <td>67367.476306</td>\n",
       "      <td>233.105454</td>\n",
       "      <td>3</td>\n",
       "      <td>2015-05-09</td>\n",
       "    </tr>\n",
       "    <tr>\n",
       "      <th>4</th>\n",
       "      <td>2015-03-01</td>\n",
       "      <td>76</td>\n",
       "      <td>33442.650453</td>\n",
       "      <td>289</td>\n",
       "      <td>100810.126759</td>\n",
       "      <td>348.823968</td>\n",
       "      <td>3</td>\n",
       "      <td>2015-05-16</td>\n",
       "    </tr>\n",
       "    <tr>\n",
       "      <th>5</th>\n",
       "      <td>2015-03-01</td>\n",
       "      <td>77</td>\n",
       "      <td>9585.033447</td>\n",
       "      <td>289</td>\n",
       "      <td>110395.160207</td>\n",
       "      <td>381.990174</td>\n",
       "      <td>3</td>\n",
       "      <td>2015-05-17</td>\n",
       "    </tr>\n",
       "    <tr>\n",
       "      <th>6</th>\n",
       "      <td>2015-03-01</td>\n",
       "      <td>108</td>\n",
       "      <td>9585.033447</td>\n",
       "      <td>289</td>\n",
       "      <td>119980.193654</td>\n",
       "      <td>415.156379</td>\n",
       "      <td>3</td>\n",
       "      <td>2015-06-17</td>\n",
       "    </tr>\n",
       "    <tr>\n",
       "      <th>7</th>\n",
       "      <td>2015-03-01</td>\n",
       "      <td>132</td>\n",
       "      <td>9585.033447</td>\n",
       "      <td>289</td>\n",
       "      <td>129565.227101</td>\n",
       "      <td>448.322585</td>\n",
       "      <td>3</td>\n",
       "      <td>2015-07-11</td>\n",
       "    </tr>\n",
       "    <tr>\n",
       "      <th>8</th>\n",
       "      <td>2015-03-01</td>\n",
       "      <td>613</td>\n",
       "      <td>24248.725481</td>\n",
       "      <td>289</td>\n",
       "      <td>153813.952583</td>\n",
       "      <td>532.228210</td>\n",
       "      <td>3</td>\n",
       "      <td>2016-11-03</td>\n",
       "    </tr>\n",
       "    <tr>\n",
       "      <th>9</th>\n",
       "      <td>2015-03-01</td>\n",
       "      <td>910</td>\n",
       "      <td>18589.155777</td>\n",
       "      <td>289</td>\n",
       "      <td>172403.108359</td>\n",
       "      <td>596.550548</td>\n",
       "      <td>3</td>\n",
       "      <td>2017-08-27</td>\n",
       "    </tr>\n",
       "    <tr>\n",
       "      <th>10</th>\n",
       "      <td>2015-03-08</td>\n",
       "      <td>29</td>\n",
       "      <td>10157.317173</td>\n",
       "      <td>149</td>\n",
       "      <td>10157.317173</td>\n",
       "      <td>68.169914</td>\n",
       "      <td>3</td>\n",
       "      <td>2015-04-06</td>\n",
       "    </tr>\n",
       "    <tr>\n",
       "      <th>11</th>\n",
       "      <td>2015-03-08</td>\n",
       "      <td>66</td>\n",
       "      <td>18685.015697</td>\n",
       "      <td>149</td>\n",
       "      <td>28842.332870</td>\n",
       "      <td>193.572704</td>\n",
       "      <td>3</td>\n",
       "      <td>2015-05-13</td>\n",
       "    </tr>\n",
       "    <tr>\n",
       "      <th>12</th>\n",
       "      <td>2015-03-08</td>\n",
       "      <td>67</td>\n",
       "      <td>9585.033447</td>\n",
       "      <td>149</td>\n",
       "      <td>38427.366317</td>\n",
       "      <td>257.901787</td>\n",
       "      <td>3</td>\n",
       "      <td>2015-05-14</td>\n",
       "    </tr>\n",
       "    <tr>\n",
       "      <th>13</th>\n",
       "      <td>2015-03-08</td>\n",
       "      <td>678</td>\n",
       "      <td>9679.934769</td>\n",
       "      <td>149</td>\n",
       "      <td>48107.301086</td>\n",
       "      <td>322.867793</td>\n",
       "      <td>3</td>\n",
       "      <td>2017-01-14</td>\n",
       "    </tr>\n",
       "    <tr>\n",
       "      <th>14</th>\n",
       "      <td>2015-03-15</td>\n",
       "      <td>24</td>\n",
       "      <td>286.621162</td>\n",
       "      <td>635</td>\n",
       "      <td>286.621162</td>\n",
       "      <td>0.451372</td>\n",
       "      <td>3</td>\n",
       "      <td>2015-04-08</td>\n",
       "    </tr>\n",
       "    <tr>\n",
       "      <th>15</th>\n",
       "      <td>2015-03-15</td>\n",
       "      <td>54</td>\n",
       "      <td>18684.057098</td>\n",
       "      <td>635</td>\n",
       "      <td>18970.678260</td>\n",
       "      <td>29.875084</td>\n",
       "      <td>3</td>\n",
       "      <td>2015-05-08</td>\n",
       "    </tr>\n",
       "    <tr>\n",
       "      <th>16</th>\n",
       "      <td>2015-03-15</td>\n",
       "      <td>86</td>\n",
       "      <td>382.481083</td>\n",
       "      <td>635</td>\n",
       "      <td>19353.159343</td>\n",
       "      <td>30.477416</td>\n",
       "      <td>3</td>\n",
       "      <td>2015-06-09</td>\n",
       "    </tr>\n",
       "    <tr>\n",
       "      <th>17</th>\n",
       "      <td>2015-03-15</td>\n",
       "      <td>93</td>\n",
       "      <td>94.901321</td>\n",
       "      <td>635</td>\n",
       "      <td>19448.060664</td>\n",
       "      <td>30.626867</td>\n",
       "      <td>3</td>\n",
       "      <td>2015-06-16</td>\n",
       "    </tr>\n",
       "    <tr>\n",
       "      <th>18</th>\n",
       "      <td>2015-03-15</td>\n",
       "      <td>94</td>\n",
       "      <td>382.481083</td>\n",
       "      <td>635</td>\n",
       "      <td>19830.541747</td>\n",
       "      <td>31.229200</td>\n",
       "      <td>3</td>\n",
       "      <td>2015-06-17</td>\n",
       "    </tr>\n",
       "    <tr>\n",
       "      <th>19</th>\n",
       "      <td>2015-03-15</td>\n",
       "      <td>101</td>\n",
       "      <td>957.640605</td>\n",
       "      <td>635</td>\n",
       "      <td>20788.182352</td>\n",
       "      <td>32.737295</td>\n",
       "      <td>3</td>\n",
       "      <td>2015-06-24</td>\n",
       "    </tr>\n",
       "  </tbody>\n",
       "</table>\n",
       "</div>"
      ],
      "text/plain": [
       "   install_cohort  days_since_install       revenue  total_installs  \\\n",
       "0      2015-03-01                  42  14468.137796             289   \n",
       "1      2015-03-01                  60    764.962165             289   \n",
       "2      2015-03-01                  68  34405.084055             289   \n",
       "3      2015-03-01                  69  17729.292290             289   \n",
       "4      2015-03-01                  76  33442.650453             289   \n",
       "5      2015-03-01                  77   9585.033447             289   \n",
       "6      2015-03-01                 108   9585.033447             289   \n",
       "7      2015-03-01                 132   9585.033447             289   \n",
       "8      2015-03-01                 613  24248.725481             289   \n",
       "9      2015-03-01                 910  18589.155777             289   \n",
       "10     2015-03-08                  29  10157.317173             149   \n",
       "11     2015-03-08                  66  18685.015697             149   \n",
       "12     2015-03-08                  67   9585.033447             149   \n",
       "13     2015-03-08                 678   9679.934769             149   \n",
       "14     2015-03-15                  24    286.621162             635   \n",
       "15     2015-03-15                  54  18684.057098             635   \n",
       "16     2015-03-15                  86    382.481083             635   \n",
       "17     2015-03-15                  93     94.901321             635   \n",
       "18     2015-03-15                  94    382.481083             635   \n",
       "19     2015-03-15                 101    957.640605             635   \n",
       "\n",
       "          cum_rev        arpu  install_month billing_date  \n",
       "0    14468.137796   50.062761              3   2015-04-12  \n",
       "1    15233.099961   52.709688              3   2015-04-30  \n",
       "2    49638.184016  171.758422              3   2015-05-08  \n",
       "3    67367.476306  233.105454              3   2015-05-09  \n",
       "4   100810.126759  348.823968              3   2015-05-16  \n",
       "5   110395.160207  381.990174              3   2015-05-17  \n",
       "6   119980.193654  415.156379              3   2015-06-17  \n",
       "7   129565.227101  448.322585              3   2015-07-11  \n",
       "8   153813.952583  532.228210              3   2016-11-03  \n",
       "9   172403.108359  596.550548              3   2017-08-27  \n",
       "10   10157.317173   68.169914              3   2015-04-06  \n",
       "11   28842.332870  193.572704              3   2015-05-13  \n",
       "12   38427.366317  257.901787              3   2015-05-14  \n",
       "13   48107.301086  322.867793              3   2017-01-14  \n",
       "14     286.621162    0.451372              3   2015-04-08  \n",
       "15   18970.678260   29.875084              3   2015-05-08  \n",
       "16   19353.159343   30.477416              3   2015-06-09  \n",
       "17   19448.060664   30.626867              3   2015-06-16  \n",
       "18   19830.541747   31.229200              3   2015-06-17  \n",
       "19   20788.182352   32.737295              3   2015-06-24  "
      ]
     },
     "execution_count": 28,
     "metadata": {},
     "output_type": "execute_result"
    }
   ],
   "source": [
    "data_clv.head(20)"
   ]
  },
  {
   "cell_type": "code",
   "execution_count": 29,
   "id": "9b6a8a5b",
   "metadata": {},
   "outputs": [
    {
     "data": {
      "text/html": [
       "<div>\n",
       "<style scoped>\n",
       "    .dataframe tbody tr th:only-of-type {\n",
       "        vertical-align: middle;\n",
       "    }\n",
       "\n",
       "    .dataframe tbody tr th {\n",
       "        vertical-align: top;\n",
       "    }\n",
       "\n",
       "    .dataframe thead th {\n",
       "        text-align: right;\n",
       "    }\n",
       "</style>\n",
       "<table border=\"1\" class=\"dataframe\">\n",
       "  <thead>\n",
       "    <tr style=\"text-align: right;\">\n",
       "      <th></th>\n",
       "      <th>install_cohort</th>\n",
       "      <th>billing_date</th>\n",
       "      <th>revenue</th>\n",
       "    </tr>\n",
       "  </thead>\n",
       "  <tbody>\n",
       "    <tr>\n",
       "      <th>0</th>\n",
       "      <td>2015-03-01</td>\n",
       "      <td>2015-04-12</td>\n",
       "      <td>14468.137796</td>\n",
       "    </tr>\n",
       "    <tr>\n",
       "      <th>1</th>\n",
       "      <td>2015-03-01</td>\n",
       "      <td>2015-04-30</td>\n",
       "      <td>764.962165</td>\n",
       "    </tr>\n",
       "    <tr>\n",
       "      <th>2</th>\n",
       "      <td>2015-03-01</td>\n",
       "      <td>2015-05-08</td>\n",
       "      <td>34405.084055</td>\n",
       "    </tr>\n",
       "    <tr>\n",
       "      <th>3</th>\n",
       "      <td>2015-03-01</td>\n",
       "      <td>2015-05-09</td>\n",
       "      <td>17729.292290</td>\n",
       "    </tr>\n",
       "    <tr>\n",
       "      <th>4</th>\n",
       "      <td>2015-03-01</td>\n",
       "      <td>2015-05-16</td>\n",
       "      <td>33442.650453</td>\n",
       "    </tr>\n",
       "    <tr>\n",
       "      <th>5</th>\n",
       "      <td>2015-03-01</td>\n",
       "      <td>2015-05-17</td>\n",
       "      <td>9585.033447</td>\n",
       "    </tr>\n",
       "    <tr>\n",
       "      <th>6</th>\n",
       "      <td>2015-03-01</td>\n",
       "      <td>2015-06-17</td>\n",
       "      <td>9585.033447</td>\n",
       "    </tr>\n",
       "    <tr>\n",
       "      <th>7</th>\n",
       "      <td>2015-03-01</td>\n",
       "      <td>2015-07-11</td>\n",
       "      <td>9585.033447</td>\n",
       "    </tr>\n",
       "    <tr>\n",
       "      <th>8</th>\n",
       "      <td>2015-03-01</td>\n",
       "      <td>2016-11-03</td>\n",
       "      <td>24248.725481</td>\n",
       "    </tr>\n",
       "    <tr>\n",
       "      <th>9</th>\n",
       "      <td>2015-03-01</td>\n",
       "      <td>2017-08-27</td>\n",
       "      <td>18589.155777</td>\n",
       "    </tr>\n",
       "    <tr>\n",
       "      <th>10</th>\n",
       "      <td>2015-03-08</td>\n",
       "      <td>2015-04-06</td>\n",
       "      <td>10157.317173</td>\n",
       "    </tr>\n",
       "    <tr>\n",
       "      <th>11</th>\n",
       "      <td>2015-03-08</td>\n",
       "      <td>2015-05-13</td>\n",
       "      <td>18685.015697</td>\n",
       "    </tr>\n",
       "    <tr>\n",
       "      <th>12</th>\n",
       "      <td>2015-03-08</td>\n",
       "      <td>2015-05-14</td>\n",
       "      <td>9585.033447</td>\n",
       "    </tr>\n",
       "    <tr>\n",
       "      <th>13</th>\n",
       "      <td>2015-03-08</td>\n",
       "      <td>2017-01-14</td>\n",
       "      <td>9679.934769</td>\n",
       "    </tr>\n",
       "    <tr>\n",
       "      <th>14</th>\n",
       "      <td>2015-03-15</td>\n",
       "      <td>2015-04-08</td>\n",
       "      <td>286.621162</td>\n",
       "    </tr>\n",
       "    <tr>\n",
       "      <th>15</th>\n",
       "      <td>2015-03-15</td>\n",
       "      <td>2015-05-08</td>\n",
       "      <td>18684.057098</td>\n",
       "    </tr>\n",
       "    <tr>\n",
       "      <th>16</th>\n",
       "      <td>2015-03-15</td>\n",
       "      <td>2015-06-09</td>\n",
       "      <td>382.481083</td>\n",
       "    </tr>\n",
       "    <tr>\n",
       "      <th>17</th>\n",
       "      <td>2015-03-15</td>\n",
       "      <td>2015-06-16</td>\n",
       "      <td>94.901321</td>\n",
       "    </tr>\n",
       "    <tr>\n",
       "      <th>18</th>\n",
       "      <td>2015-03-15</td>\n",
       "      <td>2015-06-17</td>\n",
       "      <td>382.481083</td>\n",
       "    </tr>\n",
       "    <tr>\n",
       "      <th>19</th>\n",
       "      <td>2015-03-15</td>\n",
       "      <td>2015-06-24</td>\n",
       "      <td>957.640605</td>\n",
       "    </tr>\n",
       "  </tbody>\n",
       "</table>\n",
       "</div>"
      ],
      "text/plain": [
       "   install_cohort billing_date       revenue\n",
       "0      2015-03-01   2015-04-12  14468.137796\n",
       "1      2015-03-01   2015-04-30    764.962165\n",
       "2      2015-03-01   2015-05-08  34405.084055\n",
       "3      2015-03-01   2015-05-09  17729.292290\n",
       "4      2015-03-01   2015-05-16  33442.650453\n",
       "5      2015-03-01   2015-05-17   9585.033447\n",
       "6      2015-03-01   2015-06-17   9585.033447\n",
       "7      2015-03-01   2015-07-11   9585.033447\n",
       "8      2015-03-01   2016-11-03  24248.725481\n",
       "9      2015-03-01   2017-08-27  18589.155777\n",
       "10     2015-03-08   2015-04-06  10157.317173\n",
       "11     2015-03-08   2015-05-13  18685.015697\n",
       "12     2015-03-08   2015-05-14   9585.033447\n",
       "13     2015-03-08   2017-01-14   9679.934769\n",
       "14     2015-03-15   2015-04-08    286.621162\n",
       "15     2015-03-15   2015-05-08  18684.057098\n",
       "16     2015-03-15   2015-06-09    382.481083\n",
       "17     2015-03-15   2015-06-16     94.901321\n",
       "18     2015-03-15   2015-06-17    382.481083\n",
       "19     2015-03-15   2015-06-24    957.640605"
      ]
     },
     "execution_count": 29,
     "metadata": {},
     "output_type": "execute_result"
    }
   ],
   "source": [
    "# Get install_cohort, billing_date, revenue columns\n",
    "features = ['install_cohort', 'billing_date', 'revenue']\n",
    "data_clv_prob = data_clv[features]\n",
    "data_clv_prob.head(20)"
   ]
  },
  {
   "cell_type": "code",
   "execution_count": null,
   "id": "8949d8e9",
   "metadata": {},
   "outputs": [],
   "source": [
    "# Recency, Frequency, Time and monetary_value\n",
    "\"\"\"\n",
    "frequency - the number of repeat revenue (more than 1 revenue)\n",
    "recency - the time between the first and the last revenue\n",
    "T - the time between the install date and the end of the revenue period\n",
    "monetary_value - it is the mean of a given install cohort's revenue\n",
    "\"\"\"\n",
    "\n",
    "summary = lifetimes.utils.summary_data_from_transaction_data(data_clv_prob, 'install_cohort', 'billing_date', 'revenue',\\\n",
    "                                                            include_first_transaction=False)\n",
    "summary = summary.reset_index()\n",
    "summary"
   ]
  },
  {
   "cell_type": "code",
   "execution_count": null,
   "id": "554b7f27",
   "metadata": {},
   "outputs": [],
   "source": [
    "# Create a distribution of frequency\n",
    "summary['frequency'].plot(kind='hist', bins=50)\n",
    "print(summary['frequency'].describe())"
   ]
  },
  {
   "cell_type": "code",
   "execution_count": null,
   "id": "8f424307",
   "metadata": {},
   "outputs": [],
   "source": [
    "#### Fitting the BG/NBD model\n",
    "bgf = lifetimes.BetaGeoFitter(penalizer_coef=0.6)\n",
    "bgf.fit(summary['frequency'], summary['recency'], summary['T'])"
   ]
  },
  {
   "cell_type": "code",
   "execution_count": null,
   "id": "93624260",
   "metadata": {},
   "outputs": [],
   "source": [
    "# Model summary\n",
    "bgf.summary"
   ]
  },
  {
   "cell_type": "code",
   "execution_count": null,
   "id": "4d5dab22",
   "metadata": {},
   "outputs": [],
   "source": [
    "# Compute the cohort retention (1-churn%) probability\n",
    "summary['retention_rate'] = bgf.conditional_probability_alive(summary['frequency'], summary['recency'], summary['T'])\n",
    "summary.head()"
   ]
  },
  {
   "cell_type": "code",
   "execution_count": null,
   "id": "4f815957",
   "metadata": {},
   "outputs": [],
   "source": [
    "#Predict future transaction for the next one year based on historical data\n",
    "t = 365\n",
    "summary['pred_num_txn'] = round(bgf.conditional_expected_number_of_purchases_up_to_time(t, summary['frequency'], summary['recency'], summary['T']),2)\n",
    "summary.head(10)"
   ]
  },
  {
   "cell_type": "code",
   "execution_count": null,
   "id": "e9123b43",
   "metadata": {},
   "outputs": [],
   "source": [
    "# Checking the relationship between frequency and monetary_value\n",
    "summary[['frequency', 'monetary_value']].corr()"
   ]
  },
  {
   "cell_type": "code",
   "execution_count": null,
   "id": "5f1af13f",
   "metadata": {},
   "outputs": [],
   "source": [
    "# Modeling the monetary value using Gamma-Gamma Model\n",
    "ggf = lifetimes.GammaGammaFitter(penalizer_coef=0.001)\n",
    "ggf.fit(summary['frequency'],\n",
    "       summary['monetary_value'])"
   ]
  },
  {
   "cell_type": "code",
   "execution_count": null,
   "id": "8261e8cc",
   "metadata": {},
   "outputs": [],
   "source": [
    "ggf.summary"
   ]
  },
  {
   "cell_type": "code",
   "execution_count": null,
   "id": "4c38edb3",
   "metadata": {},
   "outputs": [],
   "source": [
    "# Calculating the conditional expected average profit for each install cohort\n",
    "summary = summary[summary['monetary_value'] >0]\n",
    "summary['exp_avg_revenue'] = ggf.conditional_expected_average_profit(summary['frequency'], summary['monetary_value'])\n",
    "summary.head()"
   ]
  },
  {
   "cell_type": "code",
   "execution_count": null,
   "id": "a779a501",
   "metadata": {},
   "outputs": [],
   "source": [
    "summary['CLV_365'] = summary['pred_num_txn'] * summary['exp_avg_revenue'] * Profit_margin\n",
    "summary.head()"
   ]
  },
  {
   "cell_type": "code",
   "execution_count": null,
   "id": "541944fb",
   "metadata": {},
   "outputs": [],
   "source": [
    "# Distribution of CLV for the business in the next 365 days\n",
    "summary['CLV_365'].describe()"
   ]
  },
  {
   "cell_type": "code",
   "execution_count": null,
   "id": "441533d7",
   "metadata": {},
   "outputs": [],
   "source": [
    "# Total CLV for the business in the next 365 days\n",
    "summary['CLV_365'].sum()"
   ]
  },
  {
   "cell_type": "markdown",
   "id": "f01b0d0b",
   "metadata": {},
   "source": [
    "### According to Probability Model, the total CLV in next year of all the exisiting install cohorts are 459MM approximately. "
   ]
  },
  {
   "cell_type": "code",
   "execution_count": null,
   "id": "a22e2bf4",
   "metadata": {},
   "outputs": [],
   "source": []
  },
  {
   "cell_type": "markdown",
   "id": "a2e9b69c",
   "metadata": {},
   "source": [
    "### Business Question Five: Which behavior has influence on CLV of each install cohort? What are the relationship? "
   ]
  },
  {
   "cell_type": "code",
   "execution_count": null,
   "id": "fa6e76e1",
   "metadata": {},
   "outputs": [],
   "source": [
    "# Machine Learning Model"
   ]
  },
  {
   "cell_type": "code",
   "execution_count": null,
   "id": "56c5744e",
   "metadata": {},
   "outputs": [],
   "source": [
    "# Read data\n",
    "# data_clv = pd.read_csv('MobileGame.csv')\n",
    "data_clv = pd.read_csv(\"MobileGame.csv\", encoding=\"unicode_escape\", parse_dates=['install_cohort'])\n",
    "data_clv.head()"
   ]
  },
  {
   "cell_type": "code",
   "execution_count": null,
   "id": "fd27c9c0",
   "metadata": {},
   "outputs": [],
   "source": [
    "## We are going to determine basic information about each cohort's average \n",
    "## lifetime revenue amount, as well as each cohort’s duration and frequency of revenue.\n",
    "\n",
    "# Create functions\n",
    "def groupby_sum(x):\n",
    "    return x.sum()\n",
    "\n",
    "def groupby_mean(x):\n",
    "    return x.mean()\n",
    "\n",
    "def groupby_count(x):\n",
    "    return x.count()\n",
    "\n",
    "def total_duration(x):\n",
    "    return (x.max() - x.min())\n",
    "\n",
    "def avg_duration(x):\n",
    "    return (x.max() - x.min()) / x.count()\n",
    "\n",
    "groupby_sum.__name__ = 'sum'\n",
    "groupby_mean.__name__ = 'avg'\n",
    "groupby_count.__name__ = 'count'\n",
    "total_duration.__name__ = 'total_duration'\n",
    "avg_duration.__name__ = 'avg_duration'"
   ]
  },
  {
   "cell_type": "code",
   "execution_count": null,
   "id": "08f6927b",
   "metadata": {},
   "outputs": [],
   "source": [
    "# Create a summary using df to calculate the followings of install cohort\n",
    "## Revenue (min, max)\n",
    "## Days since install (min, max)\n",
    "\n",
    "data_clv_summary = data_clv.reset_index().groupby('install_cohort').agg({\n",
    "            'revenue': [groupby_sum, groupby_count],\n",
    "            'days_since_install': [min, max, total_duration, avg_duration],\n",
    "            'total_installs': [groupby_mean]\n",
    "             })\n",
    "\n",
    "data_clv_summary.head()"
   ]
  },
  {
   "cell_type": "code",
   "execution_count": null,
   "id": "902c9533",
   "metadata": {},
   "outputs": [],
   "source": [
    "data_clv_summary.columns=data_clv_summary.columns.droplevel(0)\n",
    "data_clv_summary.columns"
   ]
  },
  {
   "cell_type": "code",
   "execution_count": null,
   "id": "524499c8",
   "metadata": {},
   "outputs": [],
   "source": [
    "data_clv_summary.rename(columns={'sum': 'revenue_sum',\n",
    "         'count': 'frequency', 'min': 'recency', 'max': 'days_since_install_max', \n",
    "         'total_duration': 'total_duration', 'avg_duration': 'avg_duration', 'avg': 'total_installs'}, inplace = True)\n",
    "\n",
    "data_clv_summary.head(10)"
   ]
  },
  {
   "cell_type": "code",
   "execution_count": null,
   "id": "a87f96af",
   "metadata": {},
   "outputs": [],
   "source": [
    "# Correlation analysis \n",
    "corr = data_clv_summary.corr()\n",
    "corr"
   ]
  },
  {
   "cell_type": "code",
   "execution_count": null,
   "id": "d0acbbcf",
   "metadata": {},
   "outputs": [],
   "source": [
    "sns.heatmap(corr, \n",
    "        xticklabels=corr.columns,\n",
    "        yticklabels=corr.columns)"
   ]
  },
  {
   "cell_type": "code",
   "execution_count": null,
   "id": "a0a015d4",
   "metadata": {},
   "outputs": [],
   "source": [
    "# Define target variable and features \n",
    "target_var = 'revenue_sum'\n",
    "all_features = [x for x in data_clv_summary.columns if x not in ['install_cohort', 'revenue_sum']]\n",
    "all_features"
   ]
  },
  {
   "cell_type": "code",
   "execution_count": null,
   "id": "94079b4d",
   "metadata": {},
   "outputs": [],
   "source": [
    "# Split into train and test sets (25%)\n",
    "X_train, X_test, y_train, y_test = train_test_split(data_clv_summary[all_features], data_clv_summary[target_var], random_state=2,test_size=0.25)\n"
   ]
  },
  {
   "cell_type": "code",
   "execution_count": null,
   "id": "5174f6ed",
   "metadata": {},
   "outputs": [],
   "source": [
    "# Fit linear regression\n",
    "lin_reg = LinearRegression()\n",
    "lin_reg.fit(X_train, y_train)"
   ]
  },
  {
   "cell_type": "code",
   "execution_count": null,
   "id": "d23af63f",
   "metadata": {},
   "outputs": [],
   "source": [
    "# Get coefficients for features\n",
    "coef = pd.DataFrame(list(zip(all_features, lin_reg.coef_)))\n",
    "coef.columns = ['feature', 'coef']"
   ]
  },
  {
   "cell_type": "code",
   "execution_count": null,
   "id": "4147c859",
   "metadata": {},
   "outputs": [],
   "source": [
    "# Get predictions\n",
    "train_preds =  lin_reg.predict(X_train)\n",
    "test_preds = lin_reg.predict(X_test)"
   ]
  },
  {
   "cell_type": "code",
   "execution_count": null,
   "id": "baf604ed",
   "metadata": {},
   "outputs": [],
   "source": [
    "# R-sqaure\n",
    "r2_score(y_true = y_train, y_pred = train_preds)"
   ]
  },
  {
   "cell_type": "code",
   "execution_count": null,
   "id": "4c1a921f",
   "metadata": {},
   "outputs": [],
   "source": [
    "r2_score(y_true = y_test, y_pred = test_preds)"
   ]
  },
  {
   "cell_type": "code",
   "execution_count": null,
   "id": "8be16e9b",
   "metadata": {},
   "outputs": [],
   "source": [
    "# MedAE\n",
    "median_absolute_error(y_true = y_train, y_pred=train_preds)"
   ]
  },
  {
   "cell_type": "code",
   "execution_count": null,
   "id": "2f64c0eb",
   "metadata": {},
   "outputs": [],
   "source": [
    "median_absolute_error(y_true = y_test, y_pred=test_preds)"
   ]
  },
  {
   "cell_type": "code",
   "execution_count": null,
   "id": "edfbc467",
   "metadata": {},
   "outputs": [],
   "source": [
    "# Scatter plot\n",
    "# Build a scatter plot to compare actual and predicted values for a test set\n",
    "plt.figure(figsize=(8, 6), dpi=80)\n",
    "plt.scatter(y_test, test_preds, color='dodgerblue')\n",
    "plt.plot([0, max(y_test)], [0, max(test_preds)], color='gray', lw=1, linestyle='--')\n",
    "plt.xlabel('Actual Values', fontsize=14)\n",
    "plt.ylabel('Predicted Values', fontsize=14)\n",
    "plt.title('Actual vs. Predicted for Test Set', fontsize=16)\n",
    "plt.grid()"
   ]
  },
  {
   "cell_type": "markdown",
   "id": "119d3aad",
   "metadata": {},
   "source": [
    "###  Transaction frequency, number of days since install & total duration, total installs have strong positive relationship with CLV (revenue) of install cohort. Shorter duration between transaction of installs cohort correlates with higher CLV (revenue). Counter intuitively, an install cohort with more recent transaction is associated with smaller CLV (revenue), which might be due to the multicollinearity between recency and days since install. \n"
   ]
  }
 ],
 "metadata": {
  "kernelspec": {
   "display_name": "Python 3 (ipykernel)",
   "language": "python",
   "name": "python3"
  },
  "language_info": {
   "codemirror_mode": {
    "name": "ipython",
    "version": 3
   },
   "file_extension": ".py",
   "mimetype": "text/x-python",
   "name": "python",
   "nbconvert_exporter": "python",
   "pygments_lexer": "ipython3",
   "version": "3.9.13"
  }
 },
 "nbformat": 4,
 "nbformat_minor": 5
}
